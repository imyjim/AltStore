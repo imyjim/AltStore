{
  "cells": [
    {
      "cell_type": "markdown",
      "metadata": {
        "id": "view-in-github",
        "colab_type": "text"
      },
      "source": [
        "<a href=\"https://colab.research.google.com/github/imyjim/AltStore/blob/main/templates/aistudio_gemini_prompt_freeform.ipynb\" target=\"_parent\"><img src=\"https://colab.research.google.com/assets/colab-badge.svg\" alt=\"Open In Colab\"/></a>"
      ]
    },
    {
      "cell_type": "markdown",
      "metadata": {
        "id": "Tce3stUlHN0L"
      },
      "source": [
        "##### Copyright 2023 Google LLC"
      ]
    },
    {
      "cell_type": "code",
      "execution_count": null,
      "metadata": {
        "cellView": "form",
        "id": "tuOe1ymfHZPu"
      },
      "outputs": [],
      "source": [
        "# @title Licensed under the Apache License, Version 2.0 (the \"License\");\n",
        "# you may not use this file except in compliance with the License.\n",
        "# You may obtain a copy of the License at\n",
        "#\n",
        "# https://www.apache.org/licenses/LICENSE-2.0\n",
        "#\n",
        "# Unless required by applicable law or agreed to in writing, software\n",
        "# distributed under the License is distributed on an \"AS IS\" BASIS,\n",
        "# WITHOUT WARRANTIES OR CONDITIONS OF ANY KIND, either express or implied.\n",
        "# See the License for the specific language governing permissions and\n",
        "# limitations under the License."
      ]
    },
    {
      "cell_type": "markdown",
      "metadata": {
        "id": "FKwyTRdwB8aW"
      },
      "source": [
        "## Setup"
      ]
    },
    {
      "cell_type": "markdown",
      "metadata": {
        "id": "rlE8UqxrDIez"
      },
      "source": [
        "### Install & import"
      ]
    },
    {
      "cell_type": "code",
      "execution_count": 1,
      "metadata": {
        "id": "RXInneX6xx7c"
      },
      "outputs": [],
      "source": [
        "!pip install -U -q google-generativeai"
      ]
    },
    {
      "cell_type": "code",
      "execution_count": 2,
      "metadata": {
        "id": "kWIuwKG2_oWE"
      },
      "outputs": [],
      "source": [
        "# Install the client library and import necessary modules.\n",
        "import google.generativeai as genai\n",
        "\n",
        "import base64\n",
        "import copy\n",
        "import hashlib\n",
        "import io\n",
        "import json\n",
        "import mimetypes\n",
        "import pathlib\n",
        "import pprint\n",
        "import requests\n",
        "\n",
        "\n",
        "import PIL.Image\n",
        "import IPython.display\n",
        "from IPython.display import Markdown"
      ]
    },
    {
      "cell_type": "markdown",
      "metadata": {
        "id": "Fet3lFjdKHEM"
      },
      "source": [
        "## Set the API key"
      ]
    },
    {
      "cell_type": "markdown",
      "metadata": {
        "id": "ZoRWILAtCzBE"
      },
      "source": [
        "Add your API_KEY to the secrets manager in the left panel \"🔑\"."
      ]
    },
    {
      "cell_type": "code",
      "execution_count": 4,
      "metadata": {
        "id": "LaLCwNlkCyQd",
        "colab": {
          "base_uri": "https://localhost:8080/",
          "height": 297
        },
        "outputId": "eb25d642-f9c0-4742-d620-86495f085ce1"
      },
      "outputs": [
        {
          "output_type": "error",
          "ename": "SecretNotFoundError",
          "evalue": "Secret GOOGLE_API_KEY does not exist.",
          "traceback": [
            "\u001b[0;31m---------------------------------------------------------------------------\u001b[0m",
            "\u001b[0;31mSecretNotFoundError\u001b[0m                       Traceback (most recent call last)",
            "\u001b[0;32m<ipython-input-4-321f70020e6b>\u001b[0m in \u001b[0;36m<cell line: 3>\u001b[0;34m()\u001b[0m\n\u001b[1;32m      1\u001b[0m \u001b[0;32mfrom\u001b[0m \u001b[0mgoogle\u001b[0m\u001b[0;34m.\u001b[0m\u001b[0mcolab\u001b[0m \u001b[0;32mimport\u001b[0m \u001b[0muserdata\u001b[0m\u001b[0;34m\u001b[0m\u001b[0;34m\u001b[0m\u001b[0m\n\u001b[1;32m      2\u001b[0m \u001b[0;34m\u001b[0m\u001b[0m\n\u001b[0;32m----> 3\u001b[0;31m \u001b[0mGOOGLE_API_KEY\u001b[0m \u001b[0;34m=\u001b[0m \u001b[0muserdata\u001b[0m\u001b[0;34m.\u001b[0m\u001b[0mget\u001b[0m\u001b[0;34m(\u001b[0m\u001b[0;34m\"GOOGLE_API_KEY\"\u001b[0m\u001b[0;34m)\u001b[0m\u001b[0;34m\u001b[0m\u001b[0;34m\u001b[0m\u001b[0m\n\u001b[0m",
            "\u001b[0;32m/usr/local/lib/python3.10/dist-packages/google/colab/userdata.py\u001b[0m in \u001b[0;36mget\u001b[0;34m(key)\u001b[0m\n\u001b[1;32m     66\u001b[0m     \u001b[0;32mraise\u001b[0m \u001b[0mTimeoutException\u001b[0m\u001b[0;34m(\u001b[0m\u001b[0mkey\u001b[0m\u001b[0;34m)\u001b[0m\u001b[0;34m\u001b[0m\u001b[0;34m\u001b[0m\u001b[0m\n\u001b[1;32m     67\u001b[0m   \u001b[0;32mif\u001b[0m \u001b[0;32mnot\u001b[0m \u001b[0mresp\u001b[0m\u001b[0;34m.\u001b[0m\u001b[0mget\u001b[0m\u001b[0;34m(\u001b[0m\u001b[0;34m'exists'\u001b[0m\u001b[0;34m,\u001b[0m \u001b[0;32mFalse\u001b[0m\u001b[0;34m)\u001b[0m\u001b[0;34m:\u001b[0m\u001b[0;34m\u001b[0m\u001b[0;34m\u001b[0m\u001b[0m\n\u001b[0;32m---> 68\u001b[0;31m     \u001b[0;32mraise\u001b[0m \u001b[0mSecretNotFoundError\u001b[0m\u001b[0;34m(\u001b[0m\u001b[0mkey\u001b[0m\u001b[0;34m)\u001b[0m\u001b[0;34m\u001b[0m\u001b[0;34m\u001b[0m\u001b[0m\n\u001b[0m\u001b[1;32m     69\u001b[0m   \u001b[0;32mif\u001b[0m \u001b[0;32mnot\u001b[0m \u001b[0mresp\u001b[0m\u001b[0;34m.\u001b[0m\u001b[0mget\u001b[0m\u001b[0;34m(\u001b[0m\u001b[0;34m'access'\u001b[0m\u001b[0;34m,\u001b[0m \u001b[0;32mFalse\u001b[0m\u001b[0;34m)\u001b[0m\u001b[0;34m:\u001b[0m\u001b[0;34m\u001b[0m\u001b[0;34m\u001b[0m\u001b[0m\n\u001b[1;32m     70\u001b[0m     \u001b[0;32mraise\u001b[0m \u001b[0mNotebookAccessError\u001b[0m\u001b[0;34m(\u001b[0m\u001b[0mkey\u001b[0m\u001b[0;34m)\u001b[0m\u001b[0;34m\u001b[0m\u001b[0;34m\u001b[0m\u001b[0m\n",
            "\u001b[0;31mSecretNotFoundError\u001b[0m: Secret GOOGLE_API_KEY does not exist."
          ]
        }
      ],
      "source": [
        "from google.colab import userdata\n",
        "\n",
        "GOOGLE_API_KEY = userdata.get(\"GOOGLE_API_KEY\")"
      ]
    },
    {
      "cell_type": "code",
      "execution_count": null,
      "metadata": {
        "id": "_SvYoR3WCeKr"
      },
      "outputs": [],
      "source": [
        "# Configure the client library by providing your API key.\n",
        "genai.configure(api_key=GOOGLE_API_KEY)"
      ]
    },
    {
      "cell_type": "markdown",
      "metadata": {
        "id": "weo-o73WDpdm"
      },
      "source": [
        "## Parse the arguments"
      ]
    },
    {
      "cell_type": "code",
      "execution_count": null,
      "metadata": {
        "id": "uIog-0SyDuIF"
      },
      "outputs": [],
      "source": [
        "model = 'gemini-1.5-pro-002' # @param {isTemplate: true}\n",
        "contents_b64 = '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' # @param {isTemplate: true}\n",
        "generation_config_b64 = 'eyJ0ZW1wZXJhdHVyZSI6MSwidG9wX3AiOjAuOTUsInRvcF9rIjo0MCwibWF4X291dHB1dF90b2tlbnMiOjgxOTJ9' # @param {isTemplate: true}\n",
        "safety_settings_b64 = \"e30=\"  # @param {isTemplate: true}\n",
        "\n",
        "gais_contents = json.loads(base64.b64decode(contents_b64))\n",
        "\n",
        "generation_config = json.loads(base64.b64decode(generation_config_b64))\n",
        "safety_settings = json.loads(base64.b64decode(safety_settings_b64))\n",
        "\n",
        "stream = False"
      ]
    },
    {
      "cell_type": "code",
      "execution_count": null,
      "metadata": {
        "id": "RkbnEEIFEHFi"
      },
      "outputs": [],
      "source": [
        "gais_contents"
      ]
    },
    {
      "cell_type": "code",
      "execution_count": null,
      "metadata": {
        "id": "ca3e641ee9d3"
      },
      "outputs": [],
      "source": [
        "generation_config"
      ]
    },
    {
      "cell_type": "code",
      "execution_count": null,
      "metadata": {
        "id": "11ce12f5bbac"
      },
      "outputs": [],
      "source": [
        "safety_settings"
      ]
    },
    {
      "cell_type": "markdown",
      "metadata": {
        "id": "F91AeeGO1ncU"
      },
      "source": [
        "## [optional] Show the conversation\n",
        "\n",
        "This section displays the conversation received from Google AI Studio."
      ]
    },
    {
      "cell_type": "code",
      "execution_count": null,
      "metadata": {
        "id": "yoL3p3KPylFW"
      },
      "outputs": [],
      "source": [
        "# @title `show_file` function\n",
        "drive = None\n",
        "def show_file(file_data):\n",
        "    mime_type = file_data[\"mime_type\"]\n",
        "\n",
        "    if drive_id := file_data.get(\"drive_id\", None):\n",
        "        if drive is None:\n",
        "          from google.colab import drive\n",
        "          drive.mount(\"/gdrive\")\n",
        "        path = next(\n",
        "            pathlib.Path(f\"/gdrive/.shortcut-targets-by-id/{drive_id}\").glob(\"*\")\n",
        "        )\n",
        "        name = path\n",
        "        # data = path.read_bytes()\n",
        "        kwargs = {\"filename\": path}\n",
        "    elif url := file_data.get(\"url\", None):\n",
        "        name = url\n",
        "        kwargs = {\"url\": url}\n",
        "        # response = requests.get(url)\n",
        "        # data = response.content\n",
        "    elif data := file_data.get(\"inline_data\", None):\n",
        "        name = None\n",
        "        kwargs = {\"data\": data}\n",
        "    elif name := file_data.get(\"filename\", None):\n",
        "        if not pathlib.Path(name).exists():\n",
        "            raise IOError(\n",
        "                f\"local file: `{name}` does not exist. You can upload files to \"\n",
        "                'Colab using the file manager (\"📁 Files\"in the left toolbar)'\n",
        "            )\n",
        "    else:\n",
        "        raise ValueError(\"Either `drive_id`, `url` or `inline_data` must be provided.\")\n",
        "\n",
        "        print(f\"File:\\n    name: {name}\\n    mime_type: {mime_type}\\n\")\n",
        "        return\n",
        "\n",
        "    format = mimetypes.guess_extension(mime_type).strip(\".\")\n",
        "    if mime_type.startswith(\"image/\"):\n",
        "        image = IPython.display.Image(**kwargs, width=256)\n",
        "        IPython.display.display(image)\n",
        "        print()\n",
        "        return\n",
        "\n",
        "    if mime_type.startswith(\"audio/\"):\n",
        "        if len(data) < 2**12:\n",
        "            audio = IPython.display.Audio(**kwargs)\n",
        "            IPython.display.display(audio)\n",
        "            print()\n",
        "            return\n",
        "\n",
        "    if mime_type.startswith(\"video/\"):\n",
        "        if len(data) < 2**12:\n",
        "            audio = IPython.display.Video(**kwargs, mimetype=mime_type)\n",
        "            IPython.display.display(audio)\n",
        "            print()\n",
        "            return\n",
        "\n",
        "    print(f\"File:\\n    name: {name}\\n    mime_type: {mime_type}\\n\")"
      ]
    },
    {
      "cell_type": "code",
      "execution_count": null,
      "metadata": {
        "id": "o9D5UdhL8MTk"
      },
      "outputs": [],
      "source": [
        "for content in gais_contents:\n",
        "    if role := content.get(\"role\", None):\n",
        "        print(\"Role:\", role, \"\\n\")\n",
        "\n",
        "    for n, part in enumerate(content[\"parts\"]):\n",
        "        if text := part.get(\"text\", None):\n",
        "            print(text, \"\\n\")\n",
        "\n",
        "        elif file_data := part.get(\"file_data\", None):\n",
        "            show_file(file_data)\n",
        "\n",
        "    print(\"-\" * 80, \"\\n\")"
      ]
    },
    {
      "cell_type": "markdown",
      "metadata": {
        "id": "0F6SKiuo88LQ"
      },
      "source": [
        "## Convert & upload files\n",
        "\n",
        "For each file, Google AI Studio either sent:\n",
        "- a Google Drive IDs\n",
        "- a URL, or\n",
        "- the raw bytes (`inline_data`).\n",
        "\n",
        "The API itself onlty understands two ways of sending files:\n",
        "\n",
        "- `inline_data` - where the bytes are placed inline in the request.\n",
        "- `file_data` - where the file is uploaded to the Files API, and you pass a reference to that file.\n",
        "\n",
        "This section goes through the `contents` from Google AI Studio, and uploads the file data, to the Files API, so Gemini can access it:"
      ]
    },
    {
      "cell_type": "code",
      "execution_count": null,
      "metadata": {
        "id": "_wJAs_ZfuwCq"
      },
      "outputs": [],
      "source": [
        "# @title `upload_file` function\n",
        "\n",
        "tempfiles = pathlib.Path(f\"tempfiles\")\n",
        "tempfiles.mkdir(parents=True, exist_ok=True)\n",
        "\n",
        "drive = None\n",
        "def upload_file_data(file_data):\n",
        "    mime_type = file_data[\"mime_type\"]\n",
        "    if drive_id := file_data.pop(\"drive_id\", None):\n",
        "        if drive is None:\n",
        "          from google.colab import drive\n",
        "          drive.mount(\"/gdrive\")\n",
        "\n",
        "        path = next(\n",
        "            pathlib.Path(f\"/gdrive/.shortcut-targets-by-id/{drive_id}\").glob(\"*\")\n",
        "        )\n",
        "        print(\"Uploading:\", str(path))\n",
        "        file_info = genai.upload_file(path=path, mime_type=mime_type)\n",
        "        file_data[\"file_uri\"] = file_info.uri\n",
        "        return\n",
        "\n",
        "    if url := file_data.pop(\"url\", None):\n",
        "        response = requests.get(url)\n",
        "        data = response.content\n",
        "        name = url.split(\"/\")[-1]\n",
        "        hash = hashlib.sha256(data).hexdigest()\n",
        "        path = tempfiles / hash\n",
        "        path.write_bytes(data)\n",
        "        print(\"Uploading:\", url)\n",
        "        file_info = genai.upload_file(path, display_name=name, mime_type=mime_type)\n",
        "        file_data[\"file_uri\"] = file_info.uri\n",
        "        return\n",
        "\n",
        "    if name := file_data.get(\"filename\", None):\n",
        "        if not pathlib.Path(name).exists():\n",
        "            raise IOError(\n",
        "                f\"local file: `{name}` does not exist. You can upload files \"\n",
        "                'to Colab using the file manager (\"📁 Files\"in the left '\n",
        "                \"toolbar)\"\n",
        "            )\n",
        "        file_info = genai.upload_file(path, display_name=name, mime_type=mime_type)\n",
        "        file_data[\"file_uri\"] = file_info.uri\n",
        "        return\n",
        "\n",
        "    if \"inline_data\" in file_data:\n",
        "        return\n",
        "\n",
        "    raise ValueError(\"Either `drive_id`, `url` or `inline_data` must be provided.\")"
      ]
    },
    {
      "cell_type": "code",
      "execution_count": null,
      "metadata": {
        "id": "8TehY-utE3OR"
      },
      "outputs": [],
      "source": [
        "contents = copy.deepcopy(gais_contents)\n",
        "\n",
        "for content in contents:\n",
        "    for n, part in enumerate(content[\"parts\"]):\n",
        "        if file_data := part.get(\"file_data\", None):\n",
        "            upload_file_data(file_data)"
      ]
    },
    {
      "cell_type": "markdown",
      "metadata": {
        "id": "EUFIM-r39cuc"
      },
      "source": [
        "Here is the coverted `Content`s:"
      ]
    },
    {
      "cell_type": "code",
      "execution_count": null,
      "metadata": {
        "id": "oJ-sPFRSxdQg"
      },
      "outputs": [],
      "source": [
        "contents"
      ]
    },
    {
      "cell_type": "markdown",
      "metadata": {
        "id": "E7zAD69vE92b"
      },
      "source": [
        "## Call `generate_content`"
      ]
    },
    {
      "cell_type": "code",
      "execution_count": null,
      "metadata": {
        "id": "LB2LxPmAB95V"
      },
      "outputs": [],
      "source": [
        "# Call the model and print the response.\n",
        "gemini = genai.GenerativeModel(model_name=model)\n",
        "\n",
        "response = gemini.generate_content(\n",
        "    contents,\n",
        "    generation_config=generation_config,\n",
        "    safety_settings=safety_settings,\n",
        "    stream=False,\n",
        ")"
      ]
    },
    {
      "cell_type": "code",
      "execution_count": null,
      "metadata": {
        "id": "Lm3RXwYuGtZK"
      },
      "outputs": [],
      "source": [
        "if generation_config.get(\"candidate_count\", 1) == 1:\n",
        "    display(Markdown(response.text))"
      ]
    },
    {
      "cell_type": "code",
      "execution_count": null,
      "metadata": {
        "id": "HjT4jtJc2aAk"
      },
      "outputs": [],
      "source": [
        "response.candidates"
      ]
    },
    {
      "cell_type": "markdown",
      "metadata": {
        "id": "eQ1YBkS4MV8L"
      },
      "source": [
        "## Or Create a chat"
      ]
    },
    {
      "cell_type": "code",
      "execution_count": null,
      "metadata": {
        "id": "aOd-4IHUqx4R"
      },
      "outputs": [],
      "source": [
        "gemini = genai.GenerativeModel(\n",
        "    model_name=model,\n",
        "    generation_config=generation_config,\n",
        "    safety_settings=safety_settings,\n",
        ")"
      ]
    },
    {
      "cell_type": "markdown",
      "metadata": {
        "id": "nOPCBs2grsIt"
      },
      "source": [
        "A `ChatSession`, should always end with the model's turn.\n",
        "\n",
        "So before creating the `chat` check whos turn was last.\n",
        "\n",
        "If the user was last, attach all but the last content as the `history` and send the last content with `send_message` to get the model's response.\n",
        "\n",
        "If the model was last, put the whole contents list in the history."
      ]
    },
    {
      "cell_type": "code",
      "execution_count": null,
      "metadata": {
        "id": "aIbdDOeFqyiE"
      },
      "outputs": [],
      "source": [
        "model_turn = contents[-1].get(\"role\", None) == \"user\"\n",
        "\n",
        "if model_turn:\n",
        "    chat = gemini.start_chat(history=contents[:-1])\n",
        "\n",
        "    response = chat.send_message(contents[-1])\n",
        "\n",
        "    if generation_config.get(\"candidate_count\", 1) == 1:\n",
        "        display(Markdown(response.text))\n",
        "else:\n",
        "    chat = gemini.start_chat(history=contents)"
      ]
    },
    {
      "cell_type": "code",
      "execution_count": null,
      "metadata": {
        "id": "5gWBb5UtOL5M"
      },
      "outputs": [],
      "source": [
        "if model_turn:\n",
        "    response.candidates"
      ]
    },
    {
      "cell_type": "markdown",
      "metadata": {
        "id": "gdz66HVvsnRc"
      },
      "source": [
        "After that use `send_message` to continue the conversation."
      ]
    },
    {
      "cell_type": "code",
      "execution_count": null,
      "metadata": {
        "id": "nb87HPvBrx29"
      },
      "outputs": [],
      "source": [
        "# response = chat.send_message(\"Interesting, tell me more.\")\n",
        "# display(Markdown(response.text))"
      ]
    }
  ],
  "metadata": {
    "colab": {
      "collapsed_sections": [
        "Tce3stUlHN0L"
      ],
      "name": "aistudio_gemini_prompt_freeform.ipynb",
      "toc_visible": true,
      "provenance": [],
      "include_colab_link": true
    },
    "kernelspec": {
      "display_name": "Python 3",
      "name": "python3"
    }
  },
  "nbformat": 4,
  "nbformat_minor": 0
}